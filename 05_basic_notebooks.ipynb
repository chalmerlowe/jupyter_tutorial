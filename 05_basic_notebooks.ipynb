{
 "cells": [
  {
   "cell_type": "markdown",
   "metadata": {},
   "source": [
    "# INTRO TO NOTEBOOKS\n",
    "## Python, Markdown, and execution of code\n",
    "\n",
    "<img src=\"images/logos.3.600.wide.png\" width=\"600\" align='right'>\n",
    "\n",
    "### Chalmer Lowe\n",
    "\n",
    "---"
   ]
  },
  {
   "cell_type": "markdown",
   "metadata": {},
   "source": [
    "# Overview\n",
    "---"
   ]
  },
  {
   "cell_type": "markdown",
   "metadata": {},
   "source": [
    "In this session, we will explore a number of key features in Jupyter Notebooks including how to add code, add comments in Markdown and execute your code."
   ]
  },
  {
   "cell_type": "markdown",
   "metadata": {},
   "source": [
    "# Objectives\n",
    "---"
   ]
  },
  {
   "cell_type": "markdown",
   "metadata": {},
   "source": [
    "By the end of this lesson, students will be able to:\n",
    "\n",
    "* Add Python code to a Notebook cell\n",
    "* Effectively use Notebook cells\n",
    "* Revise and execute code\n",
    "* Use Markdown to comment code\n",
    "* Control AND edit Notebook\n"
   ]
  },
  {
   "cell_type": "markdown",
   "metadata": {},
   "source": [
    "# General Notebook overview\n",
    "---"
   ]
  },
  {
   "cell_type": "markdown",
   "metadata": {},
   "source": [
    "Ensure that you have a Notebook open in your workspace. If not OR if you are unsure on how to do so, refer back to session [04 Intro to Lab](04_intro_to_lab.ipynb). \n",
    "\n",
    "Your workspace should look something like this:\n",
    "\n",
    "<img src=\"images/panels_xp.png\" width='1000'>"
   ]
  },
  {
   "cell_type": "markdown",
   "metadata": {},
   "source": [
    "## Rename your notebook\n",
    "\n",
    "There are several ways to rename a Notebook (or other file in the File Browser). Right-click on the filename and choose Rename. \n",
    "\n",
    "<img src=\"images/rename.png\" width='400'>"
   ]
  },
  {
   "cell_type": "markdown",
   "metadata": {},
   "source": [
    "The filename will enter edit mode, allowing you to change the filename.\n",
    "\n",
    "\n",
    "<img src=\"images/filename_edit_mode.png\" width='400'>"
   ]
  },
  {
   "cell_type": "markdown",
   "metadata": {},
   "source": [
    "## Entering code"
   ]
  },
  {
   "cell_type": "markdown",
   "metadata": {},
   "source": [
    "Let's dive in a bit and then come back to look at the interface...\n",
    "\n",
    "1. Click your cursor in the open field labeled: **In [ ]**\n",
    "2. Type the following formula in to the field: 2 * 2\n",
    "3. Press **Shift + Enter**\n",
    "\n",
    "You should notice that:\n",
    "1. The **IN [ ]** field now looks like this: **In [1]**\n",
    "2. An **Out[1]** line with the answer '4' has appeared\n",
    "3. A new **In [ ]** field has appeared.\n",
    "\n",
    "<img src=\"images/nb_first_calc.png\" width=\"800\">"
   ]
  },
  {
   "cell_type": "markdown",
   "metadata": {},
   "source": [
    "# Simple code execution and revision:\n",
    "\n",
    "For the next few minutes, let's play with this notebook, by:\n",
    "* adding code\n",
    "* executing that code\n",
    "* adding more code (i.e. a simple function)\n",
    "* revising previous code\n",
    "* re-executing follow-on code\n",
    "\n",
    "\n",
    "\n"
   ]
  },
  {
   "cell_type": "markdown",
   "metadata": {},
   "source": [
    "## Adding code cell by cell.\n",
    "\n",
    "Code can be added into an existing cell OR into a new cell.\n",
    "\n",
    "Do the following in your sample notebook:\n",
    "1. In an empty cell, create a variable like this:\n",
    "    \n",
    "    <code><font color=\"blue\">phrase = 'Hello world!'</font></code>\n",
    "2. Press **Shift+Enter**\n",
    "3. In a new cell, type:\n",
    "\n",
    "    <code><font color=\"blue\">print(phrase)</font></code>\n",
    "\n",
    "4. Press **Shift+Enter**\n",
    "\n",
    "\n"
   ]
  },
  {
   "cell_type": "markdown",
   "metadata": {},
   "source": [
    "## Adding longer snippets of code in a single cell.\n",
    "\n",
    "Longer snippets of code can be added to a cell to group like thoughts together.\n",
    "\n",
    "Do the following in your sample notebook:\n",
    "* In an empty cell, create a simple function and then call it like this. To add a new line to a cell, simply press **Enter** (instead of **Shift+Enter**):\n",
    "\n",
    "```Python\n",
    "def display(words):\n",
    "    print(words, 'we love Juptyer!')\n",
    "\n",
    "display(phrase)\n",
    "```\n",
    "\n",
    "* Press **Shift+Enter** to execute the cell"
   ]
  },
  {
   "cell_type": "markdown",
   "metadata": {},
   "source": [
    "## What if you realize your earlier code is faulty?\n",
    "\n",
    "You can easily revisit previous cells to edit the content, but you need to be careful to ensure that follow-on cells execute appropriately.\n",
    "\n",
    "Do the following in your sample notebook:\n",
    "1. Return to the cell that has the line:\n",
    "\n",
    "    <code>phrase = 'Hello world!'</code>\n",
    "\n",
    "2. Revise the text to say...\n",
    "\n",
    "    <code>phrase = 'Aloha world!'</code>\n",
    "\n",
    "3. Press **Shift+Enter**\n",
    "\n",
    "NOTE: \n",
    "1. the number in the **In [#]** will change.\n",
    "2. **None** of the following cells will execute.\n",
    "3. To cause them to execute, you have several options. Let's start with one you are familiar with...:\n",
    "\n",
    "### Execute your remaining cells\n",
    "1. Press **Shift+Enter** to execute the next cell\n",
    "2. Press **Shift+Enter** to execute the last cell\n",
    "\n",
    "Each of the two cells should execute and the outputs should change to reflect the new phrase.\n"
   ]
  },
  {
   "cell_type": "markdown",
   "metadata": {},
   "source": [
    "# Other means of executing code:\n",
    "\n",
    "There are several other ways of executing code in cells, besides repetitive use of the **Shift+Enter** keyboard shortcut."
   ]
  },
  {
   "cell_type": "markdown",
   "metadata": {},
   "source": [
    "## Run cells\n",
    "\n",
    "To run specific cells, you can use commands found in the Run menu\n",
    "1. Click in the cell containing \"Aloha world!\" and change the content to read \"Aloha Hawaii!\"\n",
    "2. Click the Run menu\n",
    "3. Click the entry: \"Run Selected Cell and All Below\"\n",
    "\n",
    "<img src=\"images/run_cells.png\" width=\"500\"><br>\n",
    "\n",
    "NOTE: All the following cells execute in order, until the end of the notebook is reached."
   ]
  },
  {
   "cell_type": "markdown",
   "metadata": {},
   "source": [
    "## Other options to run cells:\n",
    "\n",
    "You can also execute:\n",
    "* Run All Above Selected Cell\n",
    "* Run Selected Cells\n",
    "* Run Selected Cells and Insert Below\n",
    "* Run Selected Cells and Don't Advance\n",
    "\n",
    "NOTE: If you select contiguous cells, you can execute more than one cell.\n",
    "NOTE: Pay close attention to the keyboard shortcuts whenever you examine menus as they can be real time savers."
   ]
  },
  {
   "cell_type": "markdown",
   "metadata": {},
   "source": [
    "We have already seen the use of the Run Selected Cells and Insert Below keyboard shortcut: **Shift+Enter**\n",
    "\n",
    "Another option, especially if you are experimenting or teaching and don't want to advance to the next cell is the Run Selected Cells and Don't Advance keyboard shortcut: **Ctrl+Enter**"
   ]
  },
  {
   "cell_type": "markdown",
   "metadata": {},
   "source": [
    "## Restart the kernel\n",
    "\n",
    "To run the entire notebook, from scratch... there is a destructive option as well:\n",
    "\n",
    "**WARNING**: this will delete any existing data or objects in memory. It won't delete anything that has been saved (i.e. the code in your cells), but any values stored in the memory of the Python interpreter will be lost.\n",
    "\n",
    "1. Click either the Run menu OR the Kernel menu\n",
    "2. Click the entry: Restart Kernel and Run All Cells...\n",
    "\n",
    "<img src=\"images/run_cells.png\" width=\"500\"><br>\n",
    "\n",
    "All the cells should renumber sequentially.\n"
   ]
  },
  {
   "cell_type": "markdown",
   "metadata": {},
   "source": [
    "When you complete this exercise, please put your green post-it on your monitor. \n",
    "\n",
    "If you want to continue on at your own-pace, please feel free to do so.\n",
    "\n",
    "<img src='./images/green_sticky.300px.png' width='200' style='float:left'>"
   ]
  },
  {
   "cell_type": "markdown",
   "metadata": {},
   "source": [
    "# Markdown Overview\n",
    "---"
   ]
  },
  {
   "cell_type": "markdown",
   "metadata": {},
   "source": [
    "The basic idea is that Markdown is a *very simple* markup language that captures the essence of your document structure in a human-readable form. There is a direct translation from the constructs in your text file to the HTML that will be generated to display it.\n",
    "\n",
    "* Markdown is an easy to read, easy to write plaintext text format that converts **automagically** to html markup.\n",
    "* the most common HTML formats are readily available\n",
    "* the format is simple and generally intuitive"
   ]
  },
  {
   "cell_type": "markdown",
   "metadata": {},
   "source": [
    "## Create a markdown cell\n",
    "\n",
    "* To convert a cell from a Code cell to a Markdown cell, click on the Code dropdown button at the right side of the Notebook menu bar. \n",
    "<img src=\"images/code_button.png\" width=\"400\">\n",
    "\n",
    "* Select the 'Markdown' option.\n",
    "<img src=\"images/markdown_menu.png\" width=\"400\">\n",
    "\n",
    "* The cell will change into a Markdown cell and will accept Markdown formatting (as well as regular HTML). \n",
    "* Any Markdown you enter will display properly when you execute the cell (i.e. press **Shift+Enter**)."
   ]
  },
  {
   "cell_type": "markdown",
   "metadata": {},
   "source": [
    "## Syntax\n",
    "\n",
    "When creating Markdown the most common syntax elements include:\n",
    "\n",
    "* Text\n",
    "* Headings\n",
    "* Emphasis\n",
    "* Bulleted lists\n",
    "* Numbered lists\n",
    "* Links\n",
    "* Codeblocks\n",
    "* Horizontal rules\n",
    "* Tables\n",
    "* Inline HTML\n",
    "* LaTeX expressions\n",
    "* File References"
   ]
  },
  {
   "cell_type": "markdown",
   "metadata": {},
   "source": [
    "### Text\n",
    "\n",
    "To display text, simply type out a line of text. To create paragraphs, insert one or more empty lines between non-empty lines."
   ]
  },
  {
   "cell_type": "markdown",
   "metadata": {},
   "source": [
    "### Headings\n",
    "\n",
    "Start the line with between one to six `#` characters to mark that line as a heading; one is the biggest, six is the smallest."
   ]
  },
  {
   "cell_type": "markdown",
   "metadata": {},
   "source": [
    "```\n",
    "# Heading level 1\n",
    "## Heading level 2\n",
    "### Heading level 3\n",
    "#### Heading level 4\n",
    "##### Heading level 5\n",
    "###### Heading level 6\n",
    "```"
   ]
  },
  {
   "cell_type": "markdown",
   "metadata": {},
   "source": [
    "# Heading level 1\n",
    "## Heading level 2\n",
    "### Heading level 3\n",
    "#### Heading level 4\n",
    "##### Heading level 5\n",
    "###### Heading level 6"
   ]
  },
  {
   "cell_type": "markdown",
   "metadata": {},
   "source": [
    "### Emphasis\n",
    "\n",
    "Use a single `*` character before and after the text you want italicized: `*jupyter*` becomes:\n",
    "\n",
    "*jupyter*\n",
    "\n",
    "Use two consecutive `*` characters before and after the text you want boldfaced: `**python**` becomes:\n",
    "\n",
    "**python**"
   ]
  },
  {
   "cell_type": "markdown",
   "metadata": {},
   "source": [
    "### Bulleted lists\n",
    "\n",
    "Start any line with a `*` or a `-` character to make the line a bullet item.\n",
    "\n",
    "Indent the line with two spaces before a bullet mark to make the line a sub-bullet in the list.\n",
    "\n",
    "The following text:\n",
    "\n",
    "    * this is a main-item\n",
    "      * this is a sub-item\n",
    "    * this is the next main-item\n",
    "\n",
    "... becomes:\n",
    "\n",
    "* this is the main-item\n",
    "  * this is the sub-item\n",
    "* this is the next main-item"
   ]
  },
  {
   "cell_type": "markdown",
   "metadata": {},
   "source": [
    "### Numbered lists\n",
    "\n",
    "Numbered lists are created in much the same manner as bulleted lists, but start each line with a `1.`.\n",
    "\n",
    "Indent numbered lists in the same way: precede the line with two spaces to make a sub-item.\n",
    "\n",
    "NOTE: **Numbers don't matter**, the actual numbers will be calculated when the list is rendered. I just use `1.` for each item in the list.\n",
    "\n",
    "The following:\n",
    "\n",
    "    1. this is the main-item\n",
    "      1. this is a sub-item\n",
    "    1. this is the next main-item\n",
    "\n",
    "... becomes:\n",
    "\n",
    "1. this is the main-item\n",
    "  1. this is a sub-item\n",
    "1. this is the next main-item\n",
    "\n",
    "You can also include bullets inside a numbered list:\n",
    "\n",
    "    1. this is the main-item\n",
    "      * this is a sub-item under the main-item\n",
    "    1. this is the next main-item\n",
    "\n",
    "... becomes:\n",
    "\n",
    "1. this is the main-item\n",
    "  * this is a sub-item under the main-item\n",
    "1. this is the next main-item"
   ]
  },
  {
   "cell_type": "markdown",
   "metadata": {},
   "source": [
    "### Links\n",
    "\n",
    "To include a hyperlink in your Notebook, wrap the text you want linked with `[` and `]`, and immediately follow it with the URL wrapped in `(` and `)`.\n",
    "\n",
    "For example, the following markdown `[Google](https://google.com)` will turn into this link: [Google](https://google.com)."
   ]
  },
  {
   "cell_type": "markdown",
   "metadata": {},
   "source": [
    "### Codeblocks\n",
    "\n",
    "Code can be represented inline or stand-alone.\n",
    "\n",
    "**Inline:** For a small number of words inline, wrap them in back-tick characters: `` ` `` (typically found at the upper left of the keyboard).\n",
    "\n",
    "Thus `` `print 'hello world'` `` \n",
    "\n",
    "turns into this: `print 'hello world'` (note that it's just part of the paragraph).\n",
    "\n",
    "**Stand-alone:** To show several consecutive lines of code, you can indent each line with four or more spaces; the first four spaces indicate it is part of the block and the remainder are used for further indentation in your code.\n",
    "\n",
    "    for i in x:\n",
    "        print('i:', i)"
   ]
  },
  {
   "cell_type": "markdown",
   "metadata": {},
   "source": [
    "### Horizontal rules\n",
    "\n",
    "To create a horizontal line, put three or more hyphens `---`, asterisks `***`, or underlines `___` on a line by themselves.\n",
    "\n",
    "```\n",
    "#### Underlined heading\n",
    "---\n",
    "```\n",
    "\n",
    "#### Underlined heading\n",
    "---\n"
   ]
  },
  {
   "cell_type": "markdown",
   "metadata": {},
   "source": [
    "### Tables\n",
    "\n",
    "To create a table, just draw the table boundaries using `|` and `-` characters. For example:\n",
    "\n",
    "    | This    | is                |\n",
    "    |---------|-------            |\n",
    "    |   a     | table             |\n",
    "    |   with  | a header and rows |    \n",
    "\n",
    "... becomes:\n",
    "\n",
    "| This    | is                |\n",
    "|---------|-------            |\n",
    "|   a     | table             |\n",
    "|   with  | a header and rows |    \n",
    "\n",
    "Notice the different row colors.\n",
    "\n",
    "**Note:** The table boundaries don't have to be aligned (just make sure your horizontal dividers are at least 3 characters long). You could get the same effect as above by using these:\n",
    "\n",
    "    | This | is |\n",
    "    |------|---|\n",
    "    | a |    table         |\n",
    "    \n",
    "    \n",
    "| This | is |\n",
    "|------|---|\n",
    "| a |    table         |"
   ]
  },
  {
   "cell_type": "markdown",
   "metadata": {},
   "source": [
    "### Inline HTML\n",
    "\n",
    "You can insert HTML anywhere in your Markdown and it will be passed through as-is to the renderer. For instance, `<strong>python</strong>` becomes <strong>python</strong>."
   ]
  },
  {
   "cell_type": "markdown",
   "metadata": {},
   "source": [
    "### LaTeX expressions\n",
    "\n",
    "You can embed LaTeX equations both inline and as stand-alone text.\n",
    "\n",
    "**Inline:** To embed inline, surround the LaTeX expression with `$` characters. For example, `$e^{i\\pi} + 1 = 0$` becomes $e^{i\\pi} + 1 = 0$.\n",
    "\n",
    "**Stand-alone:** Expressions can also be moved to a line by themselves by wrapping them in `$$` characters (two `$` characters at each end of the expression) and placing them on a line by themselves. For example:\n",
    "\n",
    "    $$e^x=\\sum_{i=0}^\\infty \\frac{1}{i!}x^i$$\n",
    "\n",
    "... becomes:\n",
    "\n",
    "$$e^x=\\sum_{i=0}^\\infty \\frac{1}{i!}x^i$$"
   ]
  },
  {
   "cell_type": "markdown",
   "metadata": {},
   "source": [
    "### File references\n",
    "\n",
    "You can include references to local files to be rendered as images or otherwise served via your Markdown document. It is possible to include attributes in the tags, such as `width=\"400\"`:\n",
    "\n",
    "    <img src=\"../images/changing_stuff.png\" width=\"400\" />\n",
    "\n",
    "\n",
    "\n",
    "Will produce the following:\n",
    "\n",
    "<img src=\"images/changing_stuff.jpg\" width=\"400\"/>    "
   ]
  },
  {
   "cell_type": "markdown",
   "metadata": {},
   "source": [
    "## <a name=\"other\"></a>More on Markdwon...\n",
    "\n",
    "See the resources at the bottom of this lesson for more details on each of these and the more complicated markup you might want to create."
   ]
  },
  {
   "cell_type": "markdown",
   "metadata": {},
   "source": [
    "When you complete this exercise, please put your green post-it on your monitor. \n",
    "\n",
    "If you want to continue on at your own-pace, please feel free to do so.\n",
    "\n",
    "<img src='./images/green_sticky.300px.png' width='200' style='float:left'>"
   ]
  },
  {
   "cell_type": "markdown",
   "metadata": {},
   "source": [
    "# Editing commands\n",
    "\n",
    "## Command versus Edit modes\n",
    "Jupyter Notebooks have two modes that provide access to keyboard shortcuts:\n",
    "* Command mode - Issue commands to edit, control the Notebook\n",
    "* Edit mode - Edit the content of cells\n",
    "\n",
    "To access **Command mode**, press the ESC key. A visual cue is the grey background in the cell and lack of a cursor.\n",
    "\n",
    "<img src=\"images/command_mode.png\" width=\"300\">\n",
    "\n",
    "To access **Edit mode**, press the Enter key. A visual cue is the white background in the cell and presence of a cursor.\n",
    "\n",
    "<img src=\"images/edit_mode.png\" width=\"300\">\n"
   ]
  },
  {
   "cell_type": "markdown",
   "metadata": {},
   "source": [
    "As an example of using Command mode, you can Copy / Paste a cell:\n",
    "\n",
    "1. Type **2 * 42** into an empty cell\n",
    "2. Press the **ESC** key to enter Command mode\n",
    "3. Press **c** to copy the existing cell\n",
    "4. Press **v** to paste a copy of that cell"
   ]
  },
  {
   "cell_type": "markdown",
   "metadata": {},
   "source": [
    "Another example: convert to a cell from a Code cell to a Markdown cell:\n",
    "\n",
    "1. Press the **ESC** key to enter Command mode\n",
    "2. Press **m** to enter Markdown mode\n",
    "3. Press **Enter** to immediately revert to Edit mode to start editing your Markdown content."
   ]
  },
  {
   "cell_type": "markdown",
   "metadata": {},
   "source": [
    "## Cell selection\n",
    "\n",
    "We mentioned earlier that there are additional options in terms of running selected cells.\n",
    "\n",
    "Let's take a look at how to select multiple cells.\n",
    "\n",
    "1. Press the **ESC** key to enter Command mode\n",
    "2. Press **Shift** key and the **Up** or **Down Arrow** keys to select contiguous cells\n",
    "\n",
    "Once you have selected multiple cells, you can perform many different actions on those cells such as:\n",
    "\n",
    "* cut\n",
    "* paste\n",
    "* change cell type\n",
    "* execute code\n",
    "* etc.\n",
    "\n",
    "\n"
   ]
  },
  {
   "cell_type": "markdown",
   "metadata": {},
   "source": [
    "## What else can you do?\n",
    "\n",
    "Jupyter has an entire assortment of commands on a **command palette**. To access the command palette:\n",
    "\n",
    "1. Click the Command Palette tab on the Left Sidebar\n",
    "<img src=\"images/cmd_palette_tab.png\" width=\"450\">\n",
    "\n",
    "2. The Command Palette has a Search field. You can search for commands in the Search field, such as `insert`:\n",
    "<img src=\"images/cmd_palette_search.png\" width=\"450\">"
   ]
  },
  {
   "cell_type": "markdown",
   "metadata": {},
   "source": [
    "# Experience Points (XP)\n",
    "---"
   ]
  },
  {
   "cell_type": "markdown",
   "metadata": {},
   "source": [
    "Let's do some hands-on.\n",
    "\n",
    "Try the following commands to improve your ability to create/edit your Notebook:\n",
    "\n",
    "1. Type **m = 42** into an empty cell\n",
    "1. Press the **ESC** key to enter Command mode\n",
    "1. Press **b** to add a new cell below the cell you are currently in\n",
    "1. Press **Enter** to change to Command mode\n",
    "1. Type **n = 13** in the new cell\n",
    "1. Press the **ESC** key to enter Command mode\n",
    "1. Press **x** to cut the cell you are in and save the content to the clipboard\n",
    "1. Press **Up arrow** twice to move the selection up two cells\n",
    "1. Press **v** to paste the clipboard content as a cell\n",
    "1. Press **dd** (`d` twice) to delete a cell (NOTE: your cell **will NOT be stored in the clipboard**)."
   ]
  },
  {
   "cell_type": "markdown",
   "metadata": {},
   "source": [
    "**Next:**\n",
    "\n",
    "Try to find the keyboard shortcut to activate the following actions:\n",
    "\n",
    "* Merge two selected cells\n",
    "* Split a cell at the location cursor into two separate cells\n",
    "* Undo a cell operation (i.e. undo cell deletion, etc)\n",
    "* Toggle line numbers\n",
    "* Activate Single Document Mode"
   ]
  },
  {
   "cell_type": "markdown",
   "metadata": {},
   "source": [
    "When you complete this exercise, please put your green post-it on your monitor. \n",
    "\n",
    "If you want to continue on at your own-pace, please feel free to do so.\n",
    "\n",
    "<img src='./images/green_sticky.300px.png' width='200' style='float:left'>"
   ]
  },
  {
   "cell_type": "markdown",
   "metadata": {},
   "source": [
    "Looks like you are done here! **Congrats**.\n",
    "\n",
    "Please proceed to the next lesson."
   ]
  },
  {
   "cell_type": "markdown",
   "metadata": {},
   "source": [
    "## <a name=\"resources\"></a>Resources\n",
    "\n",
    "* [Markdown Reference](http://daringfireball.net/projects/markdown/syntax)\n",
    "* [Markdown Syntax Guide (SourceForge)](https://sourceforge.net/p/jupiter/wiki/markdown_syntax/)\n",
    "* [Markdown Cells (jupyter-notebook.readthedocs.io)](http://jupyter-notebook.readthedocs.io/en/latest/examples/Notebook/Working%20With%20Markdown%20Cells.html)"
   ]
  }
 ],
 "metadata": {
  "kernelspec": {
   "display_name": "Python 3",
   "language": "python",
   "name": "python3"
  },
  "language_info": {
   "codemirror_mode": {
    "name": "ipython",
    "version": 3
   },
   "file_extension": ".py",
   "mimetype": "text/x-python",
   "name": "python",
   "nbconvert_exporter": "python",
   "pygments_lexer": "ipython3",
   "version": "3.6.1"
  }
 },
 "nbformat": 4,
 "nbformat_minor": 2
}

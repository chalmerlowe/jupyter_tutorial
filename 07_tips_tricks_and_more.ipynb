{
 "cells": [
  {
   "cell_type": "markdown",
   "metadata": {
    "slideshow": {
     "slide_type": "slide"
    }
   },
   "source": [
    "# Tips and tricks\n",
    "## Wow! who knew it could do that?\n",
    "\n",
    "<img src=\"images/logos.3.600.wide.png\" width=\"600\" align='right'>\n",
    "\n",
    "### Chalmer Lowe\n",
    "\n",
    "---"
   ]
  },
  {
   "cell_type": "markdown",
   "metadata": {
    "slideshow": {
     "slide_type": "slide"
    }
   },
   "source": [
    "# Objectives\n",
    "---"
   ]
  },
  {
   "cell_type": "markdown",
   "metadata": {
    "slideshow": {
     "slide_type": "slide"
    }
   },
   "source": [
    "By the end of this lesson, students will be able to:\n",
    "\n",
    "* Use tab complete efficiently\n",
    "* Drag and drop within and between notebooks\n",
    "* Copy/Paste within and between notebooks\n",
    "* Create a code console for scratch work\n",
    "* Get help for Python\n",
    "* Get help for Jupyter and so much more\n",
    "* Create slideshows, LaTeX, pdf, html, scripts, and more"
   ]
  },
  {
   "cell_type": "markdown",
   "metadata": {
    "slideshow": {
     "slide_type": "slide"
    }
   },
   "source": [
    "# Use tab complete efficiently\n",
    "---"
   ]
  },
  {
   "cell_type": "markdown",
   "metadata": {
    "slideshow": {
     "slide_type": "slide"
    }
   },
   "source": [
    "Tab complete is a customary feature in many text-based interfaces and Jupyter Notebooks are no exception."
   ]
  },
  {
   "cell_type": "markdown",
   "metadata": {
    "slideshow": {
     "slide_type": "slide"
    }
   },
   "source": [
    "Within cells, you can use tab complete to expand OR complete:\n",
    "* variable names\n",
    "* paths and filenames\n",
    "* classes and methods\n",
    "* functions"
   ]
  },
  {
   "cell_type": "markdown",
   "metadata": {
    "slideshow": {
     "slide_type": "subslide"
    }
   },
   "source": [
    "Here are some sample variables that you can play with..."
   ]
  },
  {
   "cell_type": "code",
   "execution_count": null,
   "metadata": {
    "slideshow": {
     "slide_type": "subslide"
    }
   },
   "outputs": [],
   "source": [
    "alpha = 1\n",
    "alphabetic = 2\n",
    "alphabetical = 3\n",
    "alphabetically = 4\n",
    "\n",
    "def mylongfunction():\n",
    "    pass\n",
    "\n",
    "import random"
   ]
  },
  {
   "cell_type": "code",
   "execution_count": null,
   "metadata": {
    "slideshow": {
     "slide_type": "skip"
    }
   },
   "outputs": [],
   "source": []
  },
  {
   "cell_type": "markdown",
   "metadata": {
    "slideshow": {
     "slide_type": "subslide"
    }
   },
   "source": [
    "Use tab completion to explore the variables that start with 'a' by typing just the 'a' and pressing the tab key. \n",
    "\n",
    "**NOTE**: we will see builtin functions and other items in the name space as well."
   ]
  },
  {
   "cell_type": "code",
   "execution_count": null,
   "metadata": {},
   "outputs": [],
   "source": [
    "# a<tab complete>\n"
   ]
  },
  {
   "cell_type": "markdown",
   "metadata": {},
   "source": [
    "Variables that start with `alpha` should be present in the mix somewhere...\n",
    "\n",
    "1. Now try typing out enough letters to match some of the variables that start with 'alp' and then\n",
    "1. Press the tab key once and\n",
    "1. Press the tab key a second time\n",
    "1. Notice that it completes the variable all the way out to `alpha`\n",
    "\n"
   ]
  },
  {
   "cell_type": "code",
   "execution_count": null,
   "metadata": {},
   "outputs": [],
   "source": [
    "# alp<tab complete><tab complete>\n"
   ]
  },
  {
   "cell_type": "markdown",
   "metadata": {},
   "source": [
    "From there, \n",
    "1. Type `b<tab complete>` to spell out the next few series of letters..."
   ]
  },
  {
   "cell_type": "code",
   "execution_count": null,
   "metadata": {},
   "outputs": [],
   "source": [
    "# alphab<tab complete>\n"
   ]
  },
  {
   "cell_type": "markdown",
   "metadata": {},
   "source": [
    "Use tab complete to complete the function name \"mylongfunction\".\n",
    "\n",
    "1. Type `my<tab complete>`"
   ]
  },
  {
   "cell_type": "code",
   "execution_count": null,
   "metadata": {},
   "outputs": [],
   "source": [
    "# my<tab complete>\n"
   ]
  },
  {
   "cell_type": "markdown",
   "metadata": {},
   "source": [
    "Use tab completion to view the methods and classes associated with the `random` module by typing `random.<tab complete>` (**NOTE**: the period) "
   ]
  },
  {
   "cell_type": "code",
   "execution_count": null,
   "metadata": {},
   "outputs": [],
   "source": [
    "# random.<tab complete>\n"
   ]
  },
  {
   "cell_type": "markdown",
   "metadata": {},
   "source": [
    "# Drag and drop AND copy/paste within and between notebooks\n",
    "---"
   ]
  },
  {
   "cell_type": "markdown",
   "metadata": {},
   "source": [
    "If you have two notebooks open side by side, it is trivial to select a cell and use your mouse to drag and drop the cell between the two notebooks.\n",
    "\n",
    "You can also use copy and paste between two notebooks in the same Lab workspace.\n",
    "\n",
    "1. Press **Esc** to enter command mode\n",
    "1. Press **c** to copy\n",
    "1. Place your cursor where you want the cell to go\n",
    "1. Press **v** to paste\n",
    "\n",
    "**NOTE**: you can also use the Copy/Paste buttons at the top of the Notebook interface"
   ]
  },
  {
   "cell_type": "markdown",
   "metadata": {},
   "source": [
    "# Create a code console for scratch work\n",
    "---"
   ]
  },
  {
   "cell_type": "markdown",
   "metadata": {},
   "source": [
    "Often, as we are crafting out notebooks, we want to quickly test something out so many folks inject a few empty cells and do their scratch work right in the notebook. They then clean up their code snippets and edit the cells to make everything pretty again...\n",
    "\n",
    "With any cell, you can create a code console that is connected to your notebook.\n",
    "\n",
    "By connected, we mean that the code console shares the same memory space with the notebook (it shares variables, functions, etc).\n",
    "\n",
    "Let's open a new code console, by:\n",
    "\n",
    "1. Right click on any cell\n",
    "1. Click on `New Console for Notebook`"
   ]
  },
  {
   "cell_type": "markdown",
   "metadata": {},
   "source": [
    "Let's explore that connectivity:\n",
    "\n",
    "1. Put your cursor in the open cell at the bottom of the code console\n",
    "1. Begin typing out `alp<tab complete>` to complete the variable `alpha`\n",
    "1. Press the **Enter** key. You should see the number `1` as an output\n",
    "\n",
    "Let's keep going a bit...\n",
    "\n",
    "1. Type out `alphab<tab complete>` to complete the variable `alphabetic`\n",
    "1. Press the **Enter** key. You should see the number `2` as an output\n",
    "\n",
    "1. Type out `alphab<tab complete>` to complete the variable `alphabetic` **again**\n",
    "1. Set the value of `alphabetic` to a new value by typing: `alphabetic = 42`\n",
    "1. Press the **Enter** key. There will be no output.\n",
    "1. Return to this notebook and click in the cell below\n",
    "1. Type `alphabetic`\n",
    "1. Press the **Enter** key. You should see a 42 appear."
   ]
  },
  {
   "cell_type": "code",
   "execution_count": null,
   "metadata": {},
   "outputs": [],
   "source": [
    "alphabetic"
   ]
  },
  {
   "cell_type": "markdown",
   "metadata": {},
   "source": [
    "# Get help for Python\n",
    "---"
   ]
  },
  {
   "cell_type": "markdown",
   "metadata": {},
   "source": [
    "There are several ways to get help with objects in Python.\n",
    "\n",
    "* `<object>`**?**             \n",
    "* `<object>`**??**            \n",
    "* `<object>`**Shift + Tab**\n",
    "\n",
    "**NOTE**: the double question mark is only really effective if the item you are looking at has code written in Python (many items in Python are written in C).\n",
    "\n",
    "My favorite example comes from the `datetime` library\n"
   ]
  },
  {
   "cell_type": "code",
   "execution_count": null,
   "metadata": {},
   "outputs": [],
   "source": [
    "from datetime import timedelta\n",
    "\n",
    "# timedelta??\n"
   ]
  },
  {
   "cell_type": "markdown",
   "metadata": {},
   "source": [
    "# Get help for Jupyter and so much more\n",
    "---"
   ]
  },
  {
   "cell_type": "markdown",
   "metadata": {},
   "source": [
    "The Help menu in the Lab Workspace has great links directly to various Documentation sources.\n",
    "\n",
    "1. Click on **Help** \n",
    "1. Click on **Notebook Reference**"
   ]
  },
  {
   "cell_type": "markdown",
   "metadata": {},
   "source": [
    "# Create slideshows, LaTeX, pdf, html, scripts, and more\n",
    "---"
   ]
  },
  {
   "cell_type": "markdown",
   "metadata": {},
   "source": [
    "It is possible to export your notebooks as slides, LaTeX, pdf, html, simple scripts and more.\n",
    "\n",
    "1. Click on **File** in the menu bar\n",
    "1. Click on **Export Notebook As**\n",
    "\n",
    "**NOTE**: some of these options may require that you have a parser installed to enable you to create that type of export.\n",
    "\n",
    "We leave it as an exercise for the student to tackle that...\n",
    "\n",
    "But try the following: \n",
    "1. Click on **File** in the menu bar\n",
    "1. Click on **Export Notebook As**\n",
    "1. Click on **Export Notebook to Executable Script**\n",
    "1. Save the notebook somewhere that you can find it...\n",
    "1. Open the folder that holds your `.py` file in your computer's File Explorer interface\n",
    "1. Drag and drop that file into Jupyter Lab's File Browser in the Side Panel.\n",
    "1. Open the `.py` file Jupyter Lab's text editor\n",
    "\n",
    "Notice that it is just comments and code."
   ]
  },
  {
   "cell_type": "markdown",
   "metadata": {},
   "source": [
    "When you complete this exercise, please put your green post-it on your monitor. \n",
    "\n",
    "If you want to continue on at your own-pace, please feel free to do so.\n",
    "\n",
    "<img src='./images/green_sticky.300px.png' width='200' style='float:left'>"
   ]
  },
  {
   "cell_type": "markdown",
   "metadata": {},
   "source": [
    "Looks like you are done here! **Congrats**.\n",
    "\n",
    "Please proceed to the next lesson."
   ]
  }
 ],
 "metadata": {
  "kernelspec": {
   "display_name": "Python 3",
   "language": "python",
   "name": "python3"
  },
  "language_info": {
   "codemirror_mode": {
    "name": "ipython",
    "version": 3
   },
   "file_extension": ".py",
   "mimetype": "text/x-python",
   "name": "python",
   "nbconvert_exporter": "python",
   "pygments_lexer": "ipython3",
   "version": "3.7.0"
  }
 },
 "nbformat": 4,
 "nbformat_minor": 2
}

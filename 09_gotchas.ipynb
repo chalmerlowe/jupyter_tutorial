{
 "cells": [
  {
   "cell_type": "markdown",
   "metadata": {},
   "source": [
    "# Gotchas\n",
    "## What could possibly go wrong?\n",
    "\n",
    "<img src=\"images/logos.3.600.wide.png\" width=\"600\" align='right'>\n",
    "\n",
    "### Chalmer Lowe\n",
    "\n",
    "---"
   ]
  },
  {
   "cell_type": "markdown",
   "metadata": {},
   "source": [
    "# Objectives\n",
    "---"
   ]
  },
  {
   "cell_type": "markdown",
   "metadata": {},
   "source": [
    "By the end of this lesson, students will be able to:\n",
    "\n",
    "* Understand the risks of out of sequence cell execution\n",
    "* Understand the nuances related to saving your results\n",
    "* Understand some of the nuances that are happening under the hood\n",
    "* Understand some of the difficulties associated with advanced features\n",
    "   * Installing alternate kernels\n",
    "   * Installing extensions\n"
   ]
  },
  {
   "cell_type": "markdown",
   "metadata": {},
   "source": [
    "# Out of sequence cell execution\n",
    "---"
   ]
  },
  {
   "cell_type": "markdown",
   "metadata": {},
   "source": [
    "One of the great features about Jupyter, the ability to quickly move back and forth in a Notebook to edit cells on the fly is also a key source of consternation and potential errors.\n",
    "\n",
    "Let's look at an example:"
   ]
  },
  {
   "cell_type": "code",
   "execution_count": null,
   "metadata": {},
   "outputs": [],
   "source": [
    "# We make a simple function\n",
    "# During the first go round it will multiple values by 2\n",
    "#     but we will edit it to have it multiple by 20\n",
    "\n",
    "def multiplier(nums):\n",
    "    return nums * 20"
   ]
  },
  {
   "cell_type": "code",
   "execution_count": null,
   "metadata": {},
   "outputs": [],
   "source": [
    "# we will run this cell once\n",
    "#     but we will forget to run this cell after we edit the multiplier function\n",
    "\n",
    "a = multiplier(1)"
   ]
  },
  {
   "cell_type": "code",
   "execution_count": null,
   "metadata": {},
   "outputs": [],
   "source": [
    "# we will run this cell once\n",
    "#     but we will forget to run this cell after we edit the multiplier function\n",
    "\n",
    "b = multiplier(2)"
   ]
  },
  {
   "cell_type": "code",
   "execution_count": null,
   "metadata": {},
   "outputs": [],
   "source": [
    "# we are predominantly working in this cell when we \n",
    "#     discover our \"error\" and so we will return\n",
    "#     to this cell and run it after we edit the \n",
    "#     function...\n",
    "\n",
    "base_value = 3\n",
    "c = multiplier(base_value)"
   ]
  },
  {
   "cell_type": "code",
   "execution_count": null,
   "metadata": {},
   "outputs": [],
   "source": [
    "# because we went back and edited the function cell, but forgot\n",
    "#     to execute the cells associated with a AND b,\n",
    "#     our calculation is wrong.\n",
    "# In this case, it is obvious, but in many cases, it may not be so clear.\n",
    "\n",
    "print(a, b, c)"
   ]
  },
  {
   "cell_type": "markdown",
   "metadata": {},
   "source": [
    "With a script, we generally run the entire script every time we make a change, but with Jupyter notebooks, during our experimentation, we often forget.\n",
    "\n",
    "Use the tools available to you to help ensure that you execute the right cells...\n",
    "\n",
    "<img src=\"images/run_cells.png\" width=\"400\">"
   ]
  },
  {
   "cell_type": "markdown",
   "metadata": {},
   "source": [
    "# What happens when you save\n",
    "---"
   ]
  },
  {
   "cell_type": "markdown",
   "metadata": {},
   "source": [
    "There are a number of nuances to understand when saving your notebooks, that might cause some unexpected results and/or grief.\n",
    "\n",
    "* When you save a notebook, you are saving the notebooks state: content of code cells, contents of output cells, metadata associated with the presentation of the cells, etc.\n",
    "* Thus when the notebook is re-opened, if the recipient does not have the capacity to run the notebook, they may have a less than desireable experience:\n",
    "    * old output cells with faulty results may be present if you did not execute the notebook from top to bottom\n",
    "    * conversely, output cells with background work that you might prefer to be hidden from sight may be on display\n",
    "    * code cells necessary for set up/tear down that aren't necessary to understand the thesis of the notebook but that are necessary for successful execution may be on display\n",
    "* Renderers, such as we will see in the next section may not perform as expected/may not respect the collapse/hidden settings \n",
    "* Clearing output entirely should have the desired result\n",
    "    "
   ]
  },
  {
   "cell_type": "code",
   "execution_count": 1,
   "metadata": {},
   "outputs": [],
   "source": [
    "# This should be hidden as a collapsed cell"
   ]
  },
  {
   "cell_type": "code",
   "execution_count": 2,
   "metadata": {},
   "outputs": [],
   "source": [
    "# This should be visible"
   ]
  },
  {
   "cell_type": "code",
   "execution_count": 3,
   "metadata": {},
   "outputs": [
    {
     "name": "stdout",
     "output_type": "stream",
     "text": [
      "setting up 0\n",
      "setting up 1\n",
      "setting up 2\n",
      "setting up 3\n",
      "setting up 4\n",
      "setting up 5\n",
      "setting up 6\n",
      "setting up 7\n",
      "setting up 8\n",
      "setting up 9\n"
     ]
    }
   ],
   "source": [
    "# This should produce output as part of setup, but the output should be hidden\n",
    "\n",
    "for i in range(10):\n",
    "    print('setting up', i)"
   ]
  },
  {
   "cell_type": "code",
   "execution_count": 4,
   "metadata": {},
   "outputs": [
    {
     "name": "stdout",
     "output_type": "stream",
     "text": [
      "visible set up 0\n",
      "visible set up 1\n",
      "visible set up 2\n",
      "visible set up 3\n",
      "visible set up 4\n",
      "visible set up 5\n",
      "visible set up 6\n",
      "visible set up 7\n",
      "visible set up 8\n",
      "visible set up 9\n"
     ]
    }
   ],
   "source": [
    "# This should produce desired output that is visible\n",
    "\n",
    "for i in range(10):\n",
    "    print('visible set up', i)"
   ]
  },
  {
   "cell_type": "code",
   "execution_count": null,
   "metadata": {},
   "outputs": [],
   "source": []
  },
  {
   "cell_type": "code",
   "execution_count": null,
   "metadata": {},
   "outputs": [],
   "source": []
  },
  {
   "cell_type": "markdown",
   "metadata": {},
   "source": [
    "# Nuances related to what is happening under the hood\n",
    "---"
   ]
  },
  {
   "cell_type": "markdown",
   "metadata": {},
   "source": [
    "On the surface, Jupyter seems fairly straightforward, but there are layers upon layers of complexity that must all interact seamlessly. This Python example is very simplified, probably wrong in half a dozen ways, but the intent is merely to hint at the complexity... so, apologies to the purists...\n",
    "\n",
    "|Typical Interpreter|Juptyer Ecosystem|\n",
    "|----|----|\n",
    "|...|Script|\n",
    "|...|Notebook|\n",
    "|...|IPython Kernel|\n",
    "|...|Jupyter environment (application plugins, mime renderer plugins, theme extensions, widget extensions)|\n",
    "|Script|System OR Environment Python|\n",
    "|System or Environment Python|Web browser|\n",
    "|Operating System|Operating System|"
   ]
  },
  {
   "cell_type": "markdown",
   "metadata": {},
   "source": [
    "# Advanced features\n",
    "---"
   ]
  },
  {
   "cell_type": "markdown",
   "metadata": {},
   "source": [
    "## Installing alternate kernels\n",
    "\n",
    "Over the course of several years, I have attempted on more than one occasion to install an alternate kernel.\n",
    "\n",
    "Only once have I had success.\n",
    "\n",
    "Caveats:\n",
    "\n",
    "* Always under time duress (i.e. when getting ready for these types of tutorials)\n",
    "* Never under real need\n",
    "* Typically a wild, wild west scenario with a dev environment cluttered with stuff\n",
    "\n",
    "Issues:\n",
    "\n",
    "* getting both the application and the kernel properly installed within a virtual environment\n",
    "* getting them to run code appropriately \n",
    "* there might be more than one version of a kernel produced by different groups\n"
   ]
  },
  {
   "cell_type": "markdown",
   "metadata": {},
   "source": [
    "## Installing extensions\n",
    "\n",
    "I have had some similar experiences with installing extensions. For this session, I attempted to install BeakerX, a data science extension that adds a lot of great features to notebooks. \n",
    "\n",
    "Caveats ... same caveats apply:\n",
    "\n",
    "* Always under time duress (i.e. when getting ready for these types of tutorials)\n",
    "* Never under real need\n",
    "* Typically a wild, wild west scenario with a dev environment cluttered with stuff\n",
    "\n",
    "The experiences were so hit or miss that I am still undecided on whether to give this a whirl with you. If we do it, we will do it last, in case stuff breaks..."
   ]
  },
  {
   "cell_type": "markdown",
   "metadata": {},
   "source": [
    "## Why this experience...\n",
    "\n",
    "Adding extensions and kernels greatly complicates the ecosystem in your environment so a more controlled and focused approach would probably be very beneficial. Extensions and kernels may not be under the same rigorous design and development processes as the rest of the ecosystem (i.e. they may be made by 3rd parties) OR they may be behind in the development cycle (i.e. the ecosystem may have introduced changes/new APIs, etc) such that they no longer work properly."
   ]
  },
  {
   "cell_type": "markdown",
   "metadata": {},
   "source": [
    "Looks like you are done here! **Congrats**.\n",
    "\n",
    "Please proceed to the next lesson."
   ]
  }
 ],
 "metadata": {
  "kernelspec": {
   "display_name": "Python 3",
   "language": "python",
   "name": "python3"
  },
  "language_info": {
   "codemirror_mode": {
    "name": "ipython",
    "version": 3
   },
   "file_extension": ".py",
   "mimetype": "text/x-python",
   "name": "python",
   "nbconvert_exporter": "python",
   "pygments_lexer": "ipython3",
   "version": "3.7.0"
  }
 },
 "nbformat": 4,
 "nbformat_minor": 2
}

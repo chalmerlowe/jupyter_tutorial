{
 "cells": [
  {
   "cell_type": "markdown",
   "metadata": {},
   "source": [
    "# PROJECT JUPYTER OVERVIEW\n",
    "## A history of notebooks and JupyterLab\n",
    "\n",
    "<img src=\"images/logos.3.600.wide.png\" width=\"600\" align='right'>\n",
    "\n",
    "### Chalmer Lowe\n",
    "\n",
    "---"
   ]
  },
  {
   "cell_type": "markdown",
   "metadata": {},
   "source": [
    "# Objectives\n",
    "---"
   ]
  },
  {
   "cell_type": "markdown",
   "metadata": {},
   "source": [
    "By the end of this lesson, students will:\n",
    "\n",
    "* Understand some of the history of Jupyter\n",
    "* Understand the main uses of Project Jupyter tools"
   ]
  },
  {
   "cell_type": "markdown",
   "metadata": {},
   "source": [
    "# History and main uses\n",
    "---"
   ]
  },
  {
   "cell_type": "markdown",
   "metadata": {},
   "source": [
    "## Notebooks at the dawn of time...\n",
    "\n",
    "Notebooks first appeared on the horizon in 1988 as a component of Mathematica. Maple appeared in 1989.\n",
    "\n",
    "Notebooks are used for a wide variety of purposes, including the analysis of data for science, journalism, education and business intelligence. Notebooks:\n",
    "\n",
    "* Document research procedures, show calculations, incorporate findings, and improve reproducibility.\n",
    "* Deliver a digital learning environment combining text and code\n",
    "* Support presentations that provide both content and a live code execution environment\n",
    "* Support business intelligence workflows, dashboards, and automation\n",
    "\n"
   ]
  },
  {
   "cell_type": "markdown",
   "metadata": {},
   "source": [
    "## IPython\n",
    "IPython notebooks started off strongly focused on Python as a the primary language.\n",
    "\n",
    "Over time, support for more and more languages via **language kernels** emerged and in 2014, the decision was made to rebrand... \n",
    "\n",
    "To quote from the blog post by [Matthias Bussonnier](https://blog.jupyter.org/i-python-you-r-we-julia-baf064ca1fb6)\n",
    "\n",
    "> \"When we decided to rename part of the IPython project to Jupyter in 2014, we had many good reasons. Our goal was to make (Data)Science and Education better, by providing Free and Open-Source tools that can be used by everyone. The name “Jupyter” is a strong reference to Galileo, who detailed his discovery of the Moons of Jupiter in his astronomical notebooks. The name is also a play on the languages **Ju**lia, **Py**thon, and **R**, which are pillars of the modern scientific world. \n",
    "...\n",
    "We have strived to make Jupyter a platform that treats all open-source languages as first-class citizens.\" _(emphasis added)_\n",
    "\n",
    "The IPython kernel is the reference kernel and where possible, other kernels are modeled after the IPython kernel.\n",
    "\n",
    "You will still find **many** references and tutorials about IPython notebooks. As the capabilities of Jupyter Notebooks continue to advance and changes accumulate, your mileage may vary in terms of how useful those older tutorials and references are."
   ]
  },
  {
   "cell_type": "markdown",
   "metadata": {},
   "source": [
    "## Language support\n",
    "Jupyter notebooks support 100+ kernels that offer support for various languages and capabilities.\n",
    "\n",
    "A short list includes:\n",
    "* Python\n",
    "* Julia\n",
    "* R\n",
    "* Ruby\n",
    "* Scala\n",
    "* Go\n",
    "* Lua\n",
    "* etc\n",
    "\n",
    "For a full list, see here:\n",
    "https://github.com/jupyter/jupyter/wiki/Jupyter-kernels"
   ]
  },
  {
   "cell_type": "markdown",
   "metadata": {},
   "source": [
    "# JupyterLab\n",
    "---"
   ]
  },
  {
   "cell_type": "markdown",
   "metadata": {},
   "source": [
    "As awesome as Notebooks are, there were a number of perceived shortcomings/areas for improvement. Out of a need to address some of these issues, [JupyterLab](https://blog.jupyter.org/jupyterlab-is-ready-for-users-5a6f039b8906) was developed:\n",
    "\n",
    "> \"JupyterLab is an interactive development environment for working with notebooks, code and data. \n",
    "> \n",
    "> ... JupyterLab has full support for Jupyter notebooks. Additionally, JupyterLab enables you to use text editors, terminals, data file viewers, and other custom components side by side with notebooks in a tabbed work area.\""
   ]
  },
  {
   "cell_type": "markdown",
   "metadata": {},
   "source": [
    "# ACM Award\n",
    "---"
   ]
  },
  {
   "cell_type": "markdown",
   "metadata": {},
   "source": [
    "In March 2018, the Association for Computing Machinery (ACM) awarded Project Jupyter with the [Software System Award](https://blog.jupyter.org/jupyter-receives-the-acm-software-system-award-d433b0dfe3a2):\n",
    "\n",
    "> \"... a significant honor for the project. We are humbled to join an illustrious list of projects that contains major highlights of computing history, including Unix, TeX, S (R’s predecessor), the Web, Mosaic, Java, INGRES (modern databases) and more.\n",
    "\n"
   ]
  },
  {
   "cell_type": "markdown",
   "metadata": {},
   "source": [
    "# Sponsorship\n",
    "---"
   ]
  },
  {
   "cell_type": "markdown",
   "metadata": {},
   "source": [
    "The Jupyter project is sponsored by the following organizations both financially and through institutional partnerships. **Note** this is not a complete list...:\n",
    "\n",
    "![Moore](images/moore.png)\n",
    "![Alfred](images/alfred.png)\n",
    "![Bloomberg](images/new_bloomberg_logo.svg.png)\n",
    "![rackspace](images/rackspace-color.png)\n",
    "![microsoft](images/microsoft-color.png)\n",
    "![google](images/google-color.png)\n",
    "![helmsley](images/helmsley.png)\n",
    "\n"
   ]
  },
  {
   "cell_type": "markdown",
   "metadata": {},
   "source": [
    "---"
   ]
  },
  {
   "cell_type": "markdown",
   "metadata": {},
   "source": [
    "Looks like you are done here! **Congrats**.\n",
    "\n",
    "Please proceed to the next lesson."
   ]
  }
 ],
 "metadata": {
  "kernelspec": {
   "display_name": "Python 3",
   "language": "python",
   "name": "python3"
  },
  "language_info": {
   "codemirror_mode": {
    "name": "ipython",
    "version": 3
   },
   "file_extension": ".py",
   "mimetype": "text/x-python",
   "name": "python",
   "nbconvert_exporter": "python",
   "pygments_lexer": "ipython3",
   "version": "3.6.1"
  }
 },
 "nbformat": 4,
 "nbformat_minor": 2
}

{
 "cells": [
  {
   "cell_type": "markdown",
   "metadata": {},
   "source": [
    "# WELCOME TO JUPYTER\n",
    "## Using Jupyter Lab, Notebooks and more!\n",
    "\n",
    "<img src=\"images/logos.3.600.wide.png\" width=\"600\" align='right'>\n",
    "\n",
    "### Chalmer Lowe\n",
    "\n",
    "---"
   ]
  },
  {
   "cell_type": "markdown",
   "metadata": {},
   "source": [
    "# Objectives\n",
    "---"
   ]
  },
  {
   "cell_type": "markdown",
   "metadata": {},
   "source": [
    "By the end of this workshop, students will be able to:\n",
    "\n",
    "* Install Jupyter Lab, Notebook and assorted tools\n",
    "* Understand the Jupyter ecosystem and key components in the Jupyter tool suite\n",
    "* Create basic Notebooks in the Lab user interface\n",
    "* Optimize your enviroment, by setting configurations\n",
    "* Improve your efficiency through tips, tricks and more\n",
    "* Explore advanced uses like pandas/graphing, etc\n",
    "* Understand gotchas and other challenges\n",
    "* Learn how to share Notebooks\n",
    "* Examine widgets and more"
   ]
  },
  {
   "cell_type": "markdown",
   "metadata": {},
   "source": [
    "# Administrivia\n",
    "---"
   ]
  },
  {
   "cell_type": "markdown",
   "metadata": {},
   "source": [
    "* Parking\n",
    "* Wifi\n",
    "* Restrooms\n",
    "* Food \n",
    "* Red/Green stickies\n",
    "<br>\n",
    "<br>\n",
    "<img src='./images/green_sticky.300px.png' width='200'>\n",
    "\n"
   ]
  },
  {
   "cell_type": "markdown",
   "metadata": {},
   "source": [
    "# Future Events\n",
    "---"
   ]
  },
  {
   "cell_type": "markdown",
   "metadata": {},
   "source": [
    "## PyHawaii Hacktoberfest Project Night (Oct 17): [RSVP for Hacktoberfest](http://bit.ly/2Rw8UoX)\n",
    "\n",
    "* Hacktoberfest open source contribution party\n",
    "* Submit **five** PRs and earn a Hacktoberfest tee-shirt\n",
    "* For info on Hacktoberfest, see [Digital Ocean blog](http://bit.ly/hacktoberfest2018)\n",
    "    "
   ]
  },
  {
   "cell_type": "markdown",
   "metadata": {},
   "source": [
    "## Jupyter Hackathon/Sprint (Nov 17-18): [RSVP for Hackathon](http://bit.ly/jupyter_hackathon_2018)\n",
    "\n",
    "Project Jupyter has offered to fly out **TWO** Core Developers\n",
    "\n",
    "Join us to:\n",
    "* Add features\n",
    "* Fix bugs\n",
    "* Improve documentation\n",
    "\n",
    "All day, both days & free food"
   ]
  },
  {
   "cell_type": "markdown",
   "metadata": {},
   "source": [
    "# Sponsorship and Support\n",
    "---"
   ]
  },
  {
   "cell_type": "markdown",
   "metadata": {},
   "source": [
    "Thanks to:\n",
    "    \n",
    "* **University of Hawaii** and the **iLab** for the kind use of their space. We are guests, please help keep it clean.\n",
    "* **Project Jupyter** and **Bloomberg** for fiscal and emotional support!\n",
    "    * Ana @ Jupyter\n",
    "    * Brian @ Jupyter\n",
    "    * Jason @ Bloomberg\n",
    "* **Booz Allen Hamilton** for fiscal support / supplying food.\n",
    "* **The volunteers** at PyHawaii who help both here today and behind the scenes to bring you these events."
   ]
  },
  {
   "cell_type": "code",
   "execution_count": null,
   "metadata": {},
   "outputs": [],
   "source": []
  }
 ],
 "metadata": {
  "kernelspec": {
   "display_name": "Python 3",
   "language": "python",
   "name": "python3"
  },
  "language_info": {
   "codemirror_mode": {
    "name": "ipython",
    "version": 3
   },
   "file_extension": ".py",
   "mimetype": "text/x-python",
   "name": "python",
   "nbconvert_exporter": "python",
   "pygments_lexer": "ipython3",
   "version": "3.6.1"
  }
 },
 "nbformat": 4,
 "nbformat_minor": 2
}

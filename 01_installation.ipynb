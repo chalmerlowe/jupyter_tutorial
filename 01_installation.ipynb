{
 "cells": [
  {
   "cell_type": "markdown",
   "metadata": {},
   "source": [
    "# INSTALLING JUPYTER\n",
    "## Installing Jupyter Lab and other tools\n",
    "\n",
    "<img src=\"images/logos.3.600.wide.png\" width=\"600\" align='right'>\n",
    "\n",
    "### Chalmer Lowe\n",
    "\n",
    "---"
   ]
  },
  {
   "cell_type": "markdown",
   "metadata": {},
   "source": [
    "# Overview\n",
    "---"
   ]
  },
  {
   "cell_type": "markdown",
   "metadata": {},
   "source": [
    "In this session, we will create a virtual environment and install Jupyter and other libraries in that virtual environment."
   ]
  },
  {
   "cell_type": "markdown",
   "metadata": {},
   "source": [
    "# Objectives\n",
    "---"
   ]
  },
  {
   "cell_type": "markdown",
   "metadata": {},
   "source": [
    "By the end of this lesson, students will be able to:\n",
    "\n",
    "* Understand the use and importance of virtual environments for segregating project code\n",
    "* Install Jupyter\n",
    "* Install additional tools to enable the completion of the lessons and exercises\n",
    "* Download the lesson content from GitHub"
   ]
  },
  {
   "cell_type": "markdown",
   "metadata": {},
   "source": [
    "# Downloading and Installing Miniconda\n",
    "---"
   ]
  },
  {
   "cell_type": "markdown",
   "metadata": {},
   "source": [
    "We will download and install the `conda` package manager found in the `miniconda` install guide.\n",
    "\n",
    "1. In the directions, if given a choice between `miniconda` and `Anaconda`, use the `miniconda` installer, because it is a much smaller and far quicker install. `Anaconda` is a collection of 150+ libraries that you may not need, so avoid that for now.\n",
    "1. Use a **Python 3** version of `conda`.\n",
    "1. **IF** you already have `miniconda` OR `Anaconda` installed, you do **NOT** need to reinstall. Simply proceed to the next step and test your install.\n",
    "\n",
    "Otherwise:\n",
    "\n",
    "1. Follow the instructions for your operating system in the [miniconda quickstart guide](http://conda.pydata.org/docs/install/quick.html). "
   ]
  },
  {
   "cell_type": "markdown",
   "metadata": {},
   "source": [
    "# Testing your conda install\n",
    "---"
   ]
  },
  {
   "cell_type": "markdown",
   "metadata": {},
   "source": [
    "In a command prompt type `conda list`. If `conda` is installed properly, you will see a summary of the packages installed by `conda`."
   ]
  },
  {
   "cell_type": "markdown",
   "metadata": {},
   "source": [
    "## Troubleshooting\n",
    "---"
   ]
  },
  {
   "cell_type": "markdown",
   "metadata": {},
   "source": [
    "If your `conda` install doesn't seem to have worked, here's a common error message(s) & how to fix the problem.\n",
    "\n",
    "- `conda: Command not found.` This generally means you need to quit & relaunch your terminal. If that doesn't fix it, ask for help. ([Details here.](https://unix.stackexchange.com/questions/86012/what-is-the-purpose-of-the-hash-command))"
   ]
  },
  {
   "cell_type": "markdown",
   "metadata": {},
   "source": [
    "# Create a conda Virtual Environment\n",
    "---"
   ]
  },
  {
   "cell_type": "markdown",
   "metadata": {},
   "source": [
    "Next, we will create a Virtual Environment to hold the software for this lesson. Create a directory for your project, in this case, we will create a directory called `lab`\n",
    "\n",
    "* On your command prompt, make sure you are in a directory where you want your project folder to be located (many people put this in their `My Documents` OR `home` folder. From that directory, run the following command:\n",
    "\n",
    "```bash\n",
    "$ mkdir lab\n",
    "\n",
    "```\n",
    "\n",
    "* Change directories into the new folder:\n",
    "\n",
    "```bash\n",
    "$ cd lab\n",
    "```\n",
    "\n",
    "* Create a virtual environment called `mylab` with Python 3, using the following command:\n",
    "\n",
    "```bash\n",
    "$ conda create -y -n mylab python=3\n",
    "```"
   ]
  },
  {
   "cell_type": "markdown",
   "metadata": {},
   "source": [
    "# Activate Your Virtual Environment\n",
    "---"
   ]
  },
  {
   "cell_type": "markdown",
   "metadata": {},
   "source": [
    "Activate your virtual environment using the command appropriate to your operating system:\n",
    "\n",
    "#### <img src = \"./images/mac_icon.png\" width=\"24\" height=\"24\"><img src = \"./images/linux_icon.jpg\" width=\"24\" height=\"24\"> Mac/ Linux\n",
    "\n",
    "```bash\n",
    "$ conda activate mylab\n",
    "```\n",
    "\n",
    "#### <img src=\"./images/windows_icon.jpg\" width=\"24\" height=\"24\"> Windows\n",
    "\n",
    "```bat\n",
    "C:\\> activate mylab\n",
    "```"
   ]
  },
  {
   "cell_type": "markdown",
   "metadata": {},
   "source": [
    "# Install Jupyter\n",
    "---"
   ]
  },
  {
   "cell_type": "markdown",
   "metadata": {},
   "source": [
    "Install Jupyter Lab in your virtual environment using the following command:\n",
    "\n",
    "**Note:** in this case, we are installing `jupyterlab` from the `conda-forge` channel/repository using the `-c` option. `conda` can install from multiple sources/channels as needed.\n",
    "\n",
    "**Note**: In general, throughout today's sessions, we will also include the `-y` option to skip the step where it asks for permission to install. \n",
    "\n",
    "```bash\n",
    "(mylab) $ conda install -y -c conda-forge jupyterlab\n",
    "```\n",
    "\n",
    "**IF** you want to pause before you actually install the libraries in your virtual environment, you can remove the `-y` option, like this:\n",
    "\n",
    "\n",
    "```bash\n",
    "(mylab) $ conda install -c conda-forge jupyterlab\n",
    "```\n",
    "\n"
   ]
  },
  {
   "cell_type": "markdown",
   "metadata": {},
   "source": [
    "# Install everything else\n",
    "---"
   ]
  },
  {
   "cell_type": "markdown",
   "metadata": {},
   "source": [
    "Install these additional packages to your virtual environment and configure `conda` as noted. \n",
    "\n",
    "**Note:** These are not hosted on `conda-forge`, so we can simply use `conda install` without the `-c` option. \n",
    "\n",
    "```bash\n",
    "(mylab) $ conda install -y matplotlib bokeh pandas\n",
    "```"
   ]
  },
  {
   "cell_type": "markdown",
   "metadata": {},
   "source": [
    "# Download the class content from GitHub\n",
    "---"
   ]
  },
  {
   "cell_type": "markdown",
   "metadata": {},
   "source": [
    "There are several options for this next step...\n",
    "\n",
    "## Simple download\n",
    "If you don't have git installed and/or aren't comfortable with cloning git repositories, do the following:\n",
    "\n",
    "1. Use your browser to go to the following URL: http://bit.ly/tutorialj\n",
    "1. Ensure that you are on the chalmerlowe/jupyter_tutorial GitHub repository\n",
    "1. Click on the **Clone or Download** button\n",
    "1. Click on the **Download ZIP** button and save the file (OR move it after it downloads) to the folder you just made: `lab`\n",
    "<br />\n",
    "<img src=\"images/git_download.png\" width=\"450\">\n",
    "1. Unzip the contents of the ZIP file into your `lab` directory\n",
    "1. On the command prompt, type the following:\n",
    "```bash\n",
    "(mylab) $ cd jupyter_tutorial\n",
    "```\n",
    "\n",
    "## Git users\n",
    "If you are comfortable with cloning git repos, feel free to do the following:\n",
    "\n",
    "1. Ensure that you are in the `lab` directory\n",
    "1. Type the following command on the command prompt:\n",
    "```bash\n",
    "(mylab) $ git clone https://github.com/chalmerlowe/jupyter_tutorial.git\n",
    "(mylab) $ cd jupyter_tutorial\n",
    "```\n"
   ]
  },
  {
   "cell_type": "markdown",
   "metadata": {},
   "source": [
    "# Test the install\n",
    "---"
   ]
  },
  {
   "cell_type": "markdown",
   "metadata": {},
   "source": [
    "Load Jupyter Lab from the command line, which will open a tab in your browser and display the Jupyter Lab environment, using the following command.\n",
    "\n",
    "```bash\n",
    "(mylab) $ jupyter lab \n",
    "```\n",
    "\n",
    "You should see something like this...\n",
    "\n",
    "<img src=\"images/first_look.png\" width=\"600\">"
   ]
  },
  {
   "cell_type": "markdown",
   "metadata": {},
   "source": [
    "When you complete this exercise, please put your green post-it on your monitor. \n",
    "\n",
    "If you want to continue on at your own-pace, please feel free to do so.\n",
    "\n",
    "<img src='./images/green_sticky.300px.png' width='200' style='float:left'>"
   ]
  },
  {
   "cell_type": "markdown",
   "metadata": {},
   "source": [
    "Looks like you are done here! **Congrats**.\n",
    "\n",
    "Please proceed to the next lesson. If you would like to explore this material in greater depth, feel free to read about the details in the Big Picture and Deep Dive sections below."
   ]
  },
  {
   "cell_type": "markdown",
   "metadata": {},
   "source": [
    "# The Big Picture\n",
    "---"
   ]
  },
  {
   "cell_type": "markdown",
   "metadata": {},
   "source": [
    "## What is miniconda (conda) and why did we install it?\n",
    "\n",
    "Miniconda contains the `conda` package manager and `Python`. `conda` is language agnostic, so you can also use it to support the install of packages from programming languages besides `Python`. Once miniconda is installed, you will be able to: \n",
    "\n",
    "* create virtual environments and \n",
    "* manage separate installations of `Python` and other languages\n",
    "* manage a large number of Python and non-Python packages/libraries\n",
    "\n",
    "Whenever you work on a new project, you should create a separate environment for that project. `conda` lets you do this easily and efficiently.\n",
    "\n",
    "For this lesson, we imagine a fairly typical directory/folder structure on your local computer. In this picture, NOTE that we have:\n",
    "\n",
    "* a directory for your **project(s)** to be saved in\n",
    "* a directory associated with **miniconda**\n",
    "\n",
    "![Our Local Directories](./images/basic_dir.png)\n",
    "\n",
    "When you create a virtualenv, conda will add subdirectories to the miniconda directory. Specifically it will create a directory that will contain:\n",
    "\n",
    "* a database and metadata about the virtualenv\n",
    "* software and libraries related to the project (i.e., Python and any modules you install in the virtualenv)\n",
    "\n",
    "NOTE: these folders are **NOT** duplicates of each other, but they **ARE** tied to one another. \n",
    "NOTE: The miniconda virtualenv folders will **NOT** contain your project code.\n",
    "\n",
    "![Local Dirs with conda environments](./images/conda_envs.png)"
   ]
  },
  {
   "cell_type": "markdown",
   "metadata": {},
   "source": [
    "# Deep Dive\n",
    "---"
   ]
  },
  {
   "cell_type": "markdown",
   "metadata": {},
   "source": [
    "## What is a virtual environment?\n",
    "\n",
    "As mentioned above, virtual environments (also called virtualenvs) are tools used to keep projects separate, especially in terms of keeping different software versions separate and different library versions separate. For example, virtualenvs prevent Python's `site packages` folder from getting filled with potentially conflicting versions of software AND thus prevents problems that arise when one project needs **version x.x** of a library but another project needs **version y.y** of the same library. At their core, virtualenvs are glorified directories that use scripts and metadata to organize and control the environment. You are allowed to have an essentially unlimited number of virtualenvs. And as you saw above, they are very easy to create using various command line tools, such as `conda`."
   ]
  },
  {
   "cell_type": "markdown",
   "metadata": {},
   "source": [
    "## When should we use a virtual environment?\n",
    "\n",
    "Anytime you have more than one project and there is a possibility of conflicts between your libraries, it is a good time to use a virtualenv. Having said that, many programmers use virtual environments for **all but the most trivial** programming tasks. Especially for beginners, using virtualenvs early on in your learning career will build a valuable skill AND help prevent sneaky bugs related to version discrepancies. Bugs that can be hard to diagnose."
   ]
  },
  {
   "cell_type": "markdown",
   "metadata": {},
   "source": [
    "## How do you create a virtual environment?\n",
    "\n",
    "While there are several programs or libraries that can generate virtualenvs (see the [Resources](#resources) section for a list). For today's lesson, we used the `conda` package manager, which includes the capability to simply and easily produce virtualenvs.\n",
    "\n",
    "Presuming you have `conda` installed, these steps enable you to create and activate a virtual environment.\n",
    "\n",
    "```bash\n",
    "$ conda create -y -n mylab python=3\n",
    "```\n",
    "\n",
    "Description:\n",
    "* `conda` runs the conda program.\n",
    "* `create` tells it to create a virtualenv\n",
    "* `-n` identifies the name of the virtualenv, in this case, `mylab`\n",
    "* `-y` tells conda to skip the verification step (i.e. to autoinstall)\n",
    "* `python=3` tells conda that you want to install Python version 3 in this virtualenv\n",
    "\n",
    "**NOTE**: you can use version 2.x or version 3.x of Python and regardless which you choose, conda will default to the most recent version of Python. Sorta... [see footnote 1](#footnotes). If you need to select a specific minor version of Python, use the following syntax to designate the appropriate version of Python:\n",
    "\n",
    "`python=3.2`\n",
    "\n",
    "When you execute the `conda create` command, `conda` prepares to install Python and any dependencies that Python relies upon. It will display output similar to the following. \n",
    "\n",
    "```bash\n",
    "MacComputer:intro_to_sprinting username$ conda create -y -n mylab python=3\n",
    "Fetching package metadata .......\n",
    "Solving package specifications: ..........\n",
    "\n",
    "Package plan for installation in environment /Users/username/miniconda3/envs/mytest:\n",
    "\n",
    "The following packages will be downloaded:\n",
    "\n",
    "    package                    |            build\n",
    "    ---------------------------|-----------------\n",
    "    openssl-1.0.2k             |                1         3.0 MB\n",
    "    python-3.6.0               |                0        11.7 MB\n",
    "    setuptools-27.2.0          |           py36_0         523 KB\n",
    "    wheel-0.29.0               |           py36_0          87 KB\n",
    "    pip-9.0.1                  |           py36_1         1.7 MB\n",
    "    ------------------------------------------------------------\n",
    "                                            Total:        17.0 MB\n",
    "\n",
    "The following NEW packages will be INSTALLED:\n",
    "\n",
    "    openssl:    1.0.2k-1\n",
    "    pip:        9.0.1-py36_1\n",
    "    python:     3.6.0-0\n",
    "    readline:   6.2-2\n",
    "    setuptools: 27.2.0-py36_0\n",
    "    sqlite:     3.13.0-0\n",
    "    tk:         8.5.18-0\n",
    "    wheel:      0.29.0-py36_0\n",
    "    xz:         5.2.2-1\n",
    "    zlib:       1.2.8-3\n",
    "\n",
    "```"
   ]
  },
  {
   "cell_type": "markdown",
   "metadata": {},
   "source": [
    "## Activating a virtualenv\n",
    "\n",
    "Once you have created a virtualenv, you will need to activate it. Activation has several side effects:\n",
    "\n",
    "* It temporarily changes your `$PATH` variable so calls to the `python` command (and similar commands) will look first in the virtualenv's `bin/` directory. \n",
    "* It temporarily changes your shell prompt to show which virtualenv you are using. Your prompt will likely look something like this, with the name of your virtualenv in parenthesis in front of the prompt:\n",
    "    * Mac/Linux: `(mylab) $`\n",
    "    * Windows: `(mylab) C:\\>`\n",
    "\n",
    "To activate your virtualenv, run the appropriate command for your operating system:"
   ]
  },
  {
   "cell_type": "markdown",
   "metadata": {},
   "source": [
    "### Mac/Linux\n",
    "\n",
    "```bash\n",
    "$ conda activate mylab\n",
    "```\n",
    "\n",
    "### Windows\n",
    "\n",
    "```bat\n",
    "C:\\> activate mylab\n",
    "```\n",
    "\n",
    "**Note:** If you are using Power Shell, `activate` won't work out of the box. Type `cmd` first to get a regular command prompt, *then* `activate mylab`."
   ]
  },
  {
   "cell_type": "markdown",
   "metadata": {},
   "source": [
    "## Adding software to your virtualenv \n",
    "\n",
    "To add more software to the virtualenv, you can use `conda` to install the software. The maintainers of conda provide access to many Python and non-Python libraries, but not all of them. If conda cannot install a particular library that you need, you can generally use `pip` or a similar package installation tool to install it instead (covering `pip` is outside the scope of this workshop).\n",
    "\n",
    "For example, to install IPython, you can use the following `conda` command:\n",
    "\n",
    "```\n",
    "(mylab) $ conda install -y ipython\n",
    "```\n",
    "\n",
    "Conda will prepare to install IPython and any dependencies that IPython relies upon. It will display output similar to the following (truncated to save space).\n",
    "\n",
    "```bash\n",
    "Fetching package metadata .......\n",
    "Solving package specifications: ..........\n",
    "\n",
    "Package plan for installation in environment /Users/chalmerlowe/miniconda3:\n",
    "\n",
    "The following packages will be downloaded:\n",
    "\n",
    "    package                    |            build\n",
    "    ---------------------------|-----------------\n",
    "    conda-env-2.6.0            |                0          601 B\n",
    "    ...\n",
    "    ipython-5.3.0              |           py35_0        1021 KB\n",
    "    conda-4.3.14               |           py35_0         505 KB\n",
    "    ------------------------------------------------------------\n",
    "                                            Total:         3.8 MB\n",
    "\n",
    "The following NEW packages will be INSTALLED:\n",
    "\n",
    "    appnope:          0.1.0-py35_0\n",
    "    ...\n",
    "    wcwidth:          0.1.7-py35_0\n",
    "\n",
    "The following packages will be UPDATED:\n",
    "\n",
    "    conda:            4.1.11-py35_0 --> 4.3.14-py35_0\n",
    "    conda-env:        2.5.2-py35_0  --> 2.6.0-0\n",
    "    requests:         2.10.0-py35_0 --> 2.13.0-py35_0\n",
    "\n",
    "```"
   ]
  },
  {
   "cell_type": "markdown",
   "metadata": {},
   "source": [
    "## Multiple packages\n",
    "\n",
    "Multiple packages can be installed at the same time, by separating the package names with spaces:\n",
    "\n",
    "`(mylab) $ conda install -y flake8 mock funcsigs`"
   ]
  },
  {
   "cell_type": "markdown",
   "metadata": {},
   "source": [
    "## Leaving the virtualenv when you are done\n",
    "\n",
    "When you are done working in your virtualenv, you can deactivate it using the following command:"
   ]
  },
  {
   "cell_type": "markdown",
   "metadata": {},
   "source": [
    "### Mac/Linux\n",
    "\n",
    "```bash\n",
    "(mylab) $ source deactivate\n",
    "$\n",
    "```\n",
    "\n",
    "### Windows\n",
    "\n",
    "```bat\n",
    "(mylab) C:\\> deactivate\n",
    "C:\\>\n",
    "```"
   ]
  },
  {
   "cell_type": "markdown",
   "metadata": {},
   "source": [
    "# Alternatives to Conda\n",
    "\n",
    "See the [Resources](#resources) section for links to other tools that are often used to create virtual environments and/or handle package management, like: `pipenv`, `pip`, `venv`, `virtualenv`.\n",
    "\n",
    "Discussing these is outside the scope of this course. Using any of these tools should be very similar to using `conda`, but there may be nuances depending on your system, the tool you choose to use and your version of Python. "
   ]
  },
  {
   "cell_type": "markdown",
   "metadata": {},
   "source": [
    "# Resources\n",
    "\n",
    "* [Conda Documentation](http://conda.pydata.org/docs/get-started.html): A getting started guide on how to use conda\n",
    "* [pip instructions](https://docs.python.org/3/installing/): An overview of a Python-oriented package manager: Pip\n",
    "* [Conda vs Pip](https://jakevdp.github.io/blog/2016/08/25/conda-myths-and-misconceptions/): Excellent discussion on the benefits of conda and the differences between conda and pip\n",
    "* [venv](https://docs.python.org/3/library/venv.html): A tool, included with Python, to create isolated Python environments\n",
    "* [virtualenv](https://virtualenv.pypa.io/en/stable/): A popular tool, albeit 3rd party, to create isolated Python environments"
   ]
  },
  {
   "cell_type": "markdown",
   "metadata": {},
   "source": [
    "# Footnotes\n",
    "\n",
    "[1]: the maintainers of `conda` put together resources for the most recent versions of Python libraries as they get released, but sometimes there may be a short lag."
   ]
  }
 ],
 "metadata": {
  "kernelspec": {
   "display_name": "Python 3",
   "language": "python",
   "name": "python3"
  },
  "language_info": {
   "codemirror_mode": {
    "name": "ipython",
    "version": 3
   },
   "file_extension": ".py",
   "mimetype": "text/x-python",
   "name": "python",
   "nbconvert_exporter": "python",
   "pygments_lexer": "ipython3",
   "version": "3.6.1"
  }
 },
 "nbformat": 4,
 "nbformat_minor": 2
}

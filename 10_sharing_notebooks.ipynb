{
 "cells": [
  {
   "cell_type": "markdown",
   "metadata": {},
   "source": [
    "# Share and share-alike\n",
    "## Getting your notebooks into the hands of your fans\n",
    "\n",
    "<img src=\"images/logos.3.600.wide.png\" width=\"600\" align='right'>\n",
    "\n",
    "### Chalmer Lowe\n",
    "\n",
    "---"
   ]
  },
  {
   "cell_type": "markdown",
   "metadata": {},
   "source": [
    "# Objectives\n",
    "---"
   ]
  },
  {
   "cell_type": "markdown",
   "metadata": {},
   "source": [
    "By the end of this lesson, students will understand some of the benefits and limitations of:\n",
    "\n",
    "* nbviewer\n",
    "* github\n",
    "* mybinder\n",
    "* jupyterhub"
   ]
  },
  {
   "cell_type": "markdown",
   "metadata": {},
   "source": [
    "# Using nbviewer\n",
    "---"
   ]
  },
  {
   "cell_type": "markdown",
   "metadata": {},
   "source": [
    "Project Jupyter hosts a notebookviewing service that will render your notebook in static format...\n",
    "\n",
    "http://nbviewer.jupyter.org/\n",
    "\n",
    "As noted below, if you provide any of the following, nbviewer will do its best to render the notebook.\n",
    "\n",
    "* URL\n",
    "* Github Username\n",
    "* Github Username/Repository\n",
    "* Gist ID\n",
    "\n",
    "**NOTE**: It doesn't produce an interactive experience. It simply displays the notebook, as saved.\n",
    "\n",
    "* If you have only saved the code cells and not the output cells, then the user will not be able to see the outputs\n",
    "* Conversely, setting cells as \"collapsed\"/\"hidden\" will generally not work\n",
    "* Clearing the results from the output cell should remove outputs and thus prevent them from being displayed\n",
    "\n",
    "<img src=\"images/nbviewer.png\" width=\"800\">"
   ]
  },
  {
   "cell_type": "markdown",
   "metadata": {},
   "source": [
    "There are several approaches:\n",
    "\n",
    "* Provide a URL/GitHub repo in the input field: https://github.com/chalmerlowe/jupyter_tutorial/blob/master/08_advanced_uses.ipynb\n",
    "\n",
    "* Craft a nbviewer.jupyter.org URL manually... \n",
    "    * **NOTE**: that you must remove the `.com` from the PATH after github \n",
    "    \n",
    "    http://nbviewer.jupyter.org/github/chalmerlowe/jupyter_tutorial/blob/master/08_advanced_uses.ipynb\n",
    "\n",
    "    http://nbviewer.jupyter.org/github/chalmerlowe/jupyter_tutorial/blob/master/09_gotchas.ipynb"
   ]
  },
  {
   "cell_type": "markdown",
   "metadata": {},
   "source": [
    "### Even more goodness from nbviewer\n",
    "\n",
    "The nbviewer menu provides some additional capabilities as shown here...\n",
    "\n",
    "* `</>` allows you to view the notebook as code (it strips out all the json metadata) and displays the notebook as comments and code\n",
    "* The GitHub logo allows you to go directly to the GitHub repo where the notebook is stored (if viewing a github repo)\n",
    "* The linked rings allow you to open the underlying repository on mybinder.org (see comments below)\n",
    "* The download icon allows you to download the notebook locally\n",
    "\n",
    "<img src=\"images/nbviewer_menu.png\" width=\"500\">"
   ]
  },
  {
   "cell_type": "markdown",
   "metadata": {},
   "source": [
    "# Using github OR your own server...\n",
    "---"
   ]
  },
  {
   "cell_type": "markdown",
   "metadata": {},
   "source": [
    "As an alternative, you can simply rely upon GitHub to do your rendering for you. \n",
    "\n",
    "`nbviewer` rendering software is an open source project and since 2015, GitHub has hosted a renderer in the background to display all Notebooks **automagically**.\n",
    "\n",
    "Because `nbviewer` is open source, you can also stand up a private rendering server for yourself or your organization to privately render your Notebooks. \n",
    "\n",
    "Details can be found here... https://github.com/jupyter/nbviewer"
   ]
  },
  {
   "cell_type": "markdown",
   "metadata": {},
   "source": [
    "# Mybinder\n",
    "---"
   ]
  },
  {
   "cell_type": "markdown",
   "metadata": {},
   "source": [
    "Mybinder is an experimental project that takes `nbviewer` to the next level: actually hosting Notebooks in a stand-alone online Docker environment so that you can actually run and edit the notebook.\n",
    "\n",
    "https://mybinder.org/\n",
    "\n",
    "Because mybinder is an experimental research platform, you should not consider it for production systems for reliable delivery. In addition, there are nuances to using mybinder:\n",
    "\n",
    "* If the repository is not set up adequately, you may not be able to stand up a docker instance correctly and your Notebooks may not run correctly.\n",
    "* It will take time to spin up a session\n",
    "* Sessions do not run forever, they will timeout after a period of inactivity\n",
    "\n",
    "But if this seems like a viable approach, consider JupyterHub!"
   ]
  },
  {
   "cell_type": "markdown",
   "metadata": {},
   "source": [
    "# Using JupyterHub\n",
    "---"
   ]
  },
  {
   "cell_type": "markdown",
   "metadata": {},
   "source": [
    "JupyterHub (and kubernetes) is the secret sauce behind mybinder.org, so if you need a more reliable OR private instance to host your notebooks, you can always stand up a JupyterHub instance.\n",
    "\n",
    "https://github.com/jupyterhub/jupyterhub\n",
    "\n",
    "\"Project Jupyter created JupyterHub to support many users. The Hub can offer notebook servers to a class of students, a corporate data science workgroup, a scientific research project, or a high performance computing group.\""
   ]
  },
  {
   "cell_type": "markdown",
   "metadata": {},
   "source": [
    "Looks like you are done here! **Congrats**.\n",
    "\n",
    "Please proceed to the next lesson."
   ]
  }
 ],
 "metadata": {
  "kernelspec": {
   "display_name": "Python 3",
   "language": "python",
   "name": "python3"
  },
  "language_info": {
   "codemirror_mode": {
    "name": "ipython",
    "version": 3
   },
   "file_extension": ".py",
   "mimetype": "text/x-python",
   "name": "python",
   "nbconvert_exporter": "python",
   "pygments_lexer": "ipython3",
   "version": "3.7.0"
  }
 },
 "nbformat": 4,
 "nbformat_minor": 2
}
